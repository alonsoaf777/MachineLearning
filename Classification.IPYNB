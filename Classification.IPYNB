{
 "cells": [
  {
   "cell_type": "code",
   "execution_count": 619,
   "metadata": {},
   "outputs": [],
   "source": [
    "import pandas as pd \n",
    "import numpy as np\n",
    "import csv\n",
    "import matplotlib.pyplot as plt\n"
   ]
  },
  {
   "cell_type": "code",
   "execution_count": 620,
   "metadata": {},
   "outputs": [],
   "source": [
    "#Lee bases de datos\n",
    "Color_pd = pd.read_csv(\"D:\\home\\[00]_Projects\\[01]_School\\MachineLearning\\Bases_datos\\Color.csv\")\n",
    "Forma_pd = pd.read_csv(\"D:\\home\\[00]_Projects\\[01]_School\\MachineLearning\\Bases_datos\\Forma.csv\")\n",
    "Iluminancia_pd = pd.read_csv(\"D:\\home\\[00]_Projects\\[01]_School\\MachineLearning\\Bases_datos\\Iluminancia.csv\")\n",
    "Output_pd = pd.read_csv(\"D:\\home\\[00]_Projects\\[01]_School\\MachineLearning\\Bases_datos\\outputActualizado.csv\")"
   ]
  },
  {
   "cell_type": "markdown",
   "metadata": {},
   "source": [
    "Limpiamos la base de datos outpu"
   ]
  },
  {
   "cell_type": "code",
   "execution_count": 621,
   "metadata": {},
   "outputs": [],
   "source": [
    "Output_pd = Output_pd.dropna()"
   ]
  },
  {
   "cell_type": "code",
   "execution_count": 622,
   "metadata": {},
   "outputs": [
    {
     "data": {
      "text/html": [
       "<div>\n",
       "<style scoped>\n",
       "    .dataframe tbody tr th:only-of-type {\n",
       "        vertical-align: middle;\n",
       "    }\n",
       "\n",
       "    .dataframe tbody tr th {\n",
       "        vertical-align: top;\n",
       "    }\n",
       "\n",
       "    .dataframe thead th {\n",
       "        text-align: right;\n",
       "    }\n",
       "</style>\n",
       "<table border=\"1\" class=\"dataframe\">\n",
       "  <thead>\n",
       "    <tr style=\"text-align: right;\">\n",
       "      <th></th>\n",
       "      <th>Unnamed: 0</th>\n",
       "      <th>ParticipantNumber</th>\n",
       "      <th>RoomID</th>\n",
       "      <th>MemoryTest1</th>\n",
       "      <th>MemoryTest2</th>\n",
       "      <th>MemoryTest3</th>\n",
       "      <th>MemoryAverage</th>\n",
       "      <th>AttentionTest</th>\n",
       "    </tr>\n",
       "  </thead>\n",
       "  <tbody>\n",
       "    <tr>\n",
       "      <th>3</th>\n",
       "      <td>4</td>\n",
       "      <td>1</td>\n",
       "      <td>111</td>\n",
       "      <td>5.0</td>\n",
       "      <td>9.0</td>\n",
       "      <td>7.0</td>\n",
       "      <td>7.000000</td>\n",
       "      <td>698.86</td>\n",
       "    </tr>\n",
       "    <tr>\n",
       "      <th>4</th>\n",
       "      <td>5</td>\n",
       "      <td>1</td>\n",
       "      <td>25</td>\n",
       "      <td>9.0</td>\n",
       "      <td>9.0</td>\n",
       "      <td>8.0</td>\n",
       "      <td>8.666667</td>\n",
       "      <td>675.79</td>\n",
       "    </tr>\n",
       "    <tr>\n",
       "      <th>5</th>\n",
       "      <td>6</td>\n",
       "      <td>1</td>\n",
       "      <td>86</td>\n",
       "      <td>5.0</td>\n",
       "      <td>8.0</td>\n",
       "      <td>10.0</td>\n",
       "      <td>7.666667</td>\n",
       "      <td>440.42</td>\n",
       "    </tr>\n",
       "    <tr>\n",
       "      <th>6</th>\n",
       "      <td>7</td>\n",
       "      <td>1</td>\n",
       "      <td>118</td>\n",
       "      <td>7.0</td>\n",
       "      <td>6.0</td>\n",
       "      <td>8.0</td>\n",
       "      <td>7.000000</td>\n",
       "      <td>471.30</td>\n",
       "    </tr>\n",
       "    <tr>\n",
       "      <th>7</th>\n",
       "      <td>8</td>\n",
       "      <td>1</td>\n",
       "      <td>46</td>\n",
       "      <td>6.0</td>\n",
       "      <td>9.0</td>\n",
       "      <td>8.0</td>\n",
       "      <td>7.666667</td>\n",
       "      <td>442.17</td>\n",
       "    </tr>\n",
       "  </tbody>\n",
       "</table>\n",
       "</div>"
      ],
      "text/plain": [
       "   Unnamed: 0 ParticipantNumber RoomID  MemoryTest1  MemoryTest2  MemoryTest3   \n",
       "3           4                 1    111          5.0          9.0          7.0  \\\n",
       "4           5                 1     25          9.0          9.0          8.0   \n",
       "5           6                 1     86          5.0          8.0         10.0   \n",
       "6           7                 1    118          7.0          6.0          8.0   \n",
       "7           8                 1     46          6.0          9.0          8.0   \n",
       "\n",
       "   MemoryAverage  AttentionTest  \n",
       "3       7.000000         698.86  \n",
       "4       8.666667         675.79  \n",
       "5       7.666667         440.42  \n",
       "6       7.000000         471.30  \n",
       "7       7.666667         442.17  "
      ]
     },
     "execution_count": 622,
     "metadata": {},
     "output_type": "execute_result"
    }
   ],
   "source": [
    "Output_pd.head()"
   ]
  },
  {
   "cell_type": "code",
   "execution_count": 623,
   "metadata": {},
   "outputs": [],
   "source": [
    "check_no_alpha = Output_pd['RoomID'].str.isnumeric()\n",
    "Output_pd = Output_pd[check_no_alpha]\n",
    "\n",
    "#Cambiamos el nombre de la columna de Room Id del output y le cambiamos el tipo\n",
    "Output_pd['RoomID'] = Output_pd['RoomID'].astype('int64')"
   ]
  },
  {
   "cell_type": "code",
   "execution_count": 624,
   "metadata": {},
   "outputs": [],
   "source": [
    "significant = ['RoomID', 'MemoryAverage']"
   ]
  },
  {
   "cell_type": "code",
   "execution_count": 625,
   "metadata": {},
   "outputs": [],
   "source": [
    "Output_pd = Output_pd[significant]"
   ]
  },
  {
   "cell_type": "code",
   "execution_count": 626,
   "metadata": {},
   "outputs": [
    {
     "data": {
      "text/html": [
       "<div>\n",
       "<style scoped>\n",
       "    .dataframe tbody tr th:only-of-type {\n",
       "        vertical-align: middle;\n",
       "    }\n",
       "\n",
       "    .dataframe tbody tr th {\n",
       "        vertical-align: top;\n",
       "    }\n",
       "\n",
       "    .dataframe thead th {\n",
       "        text-align: right;\n",
       "    }\n",
       "</style>\n",
       "<table border=\"1\" class=\"dataframe\">\n",
       "  <thead>\n",
       "    <tr style=\"text-align: right;\">\n",
       "      <th></th>\n",
       "      <th>RoomID</th>\n",
       "      <th>MemoryAverage</th>\n",
       "    </tr>\n",
       "  </thead>\n",
       "  <tbody>\n",
       "    <tr>\n",
       "      <th>3</th>\n",
       "      <td>111</td>\n",
       "      <td>7.000000</td>\n",
       "    </tr>\n",
       "    <tr>\n",
       "      <th>4</th>\n",
       "      <td>25</td>\n",
       "      <td>8.666667</td>\n",
       "    </tr>\n",
       "    <tr>\n",
       "      <th>5</th>\n",
       "      <td>86</td>\n",
       "      <td>7.666667</td>\n",
       "    </tr>\n",
       "    <tr>\n",
       "      <th>6</th>\n",
       "      <td>118</td>\n",
       "      <td>7.000000</td>\n",
       "    </tr>\n",
       "    <tr>\n",
       "      <th>7</th>\n",
       "      <td>46</td>\n",
       "      <td>7.666667</td>\n",
       "    </tr>\n",
       "  </tbody>\n",
       "</table>\n",
       "</div>"
      ],
      "text/plain": [
       "   RoomID  MemoryAverage\n",
       "3     111       7.000000\n",
       "4      25       8.666667\n",
       "5      86       7.666667\n",
       "6     118       7.000000\n",
       "7      46       7.666667"
      ]
     },
     "execution_count": 626,
     "metadata": {},
     "output_type": "execute_result"
    }
   ],
   "source": [
    "Output_pd.head()"
   ]
  },
  {
   "cell_type": "code",
   "execution_count": 632,
   "metadata": {},
   "outputs": [
    {
     "name": "stdout",
     "output_type": "stream",
     "text": [
      "Grupo\n",
      "Grupo_2    335\n",
      "Grupo_3    330\n",
      "Grupo_1    311\n",
      "Grupo_4    300\n",
      "Name: count, dtype: int64\n"
     ]
    }
   ],
   "source": [
    "\n",
    "# Definir los límites de cuantiles para la estratificación\n",
    "cuantiles = [0, 0.24, 0.5, 0.75, 1]\n",
    "\n",
    "# Aplicar la estratificación basada en cuantiles\n",
    "Output_pd['Grupo'] = pd.qcut(Output_pd['MemoryAverage'], cuantiles, labels=['Grupo_1', 'Grupo_2', 'Grupo_3', 'Grupo_4'])\n",
    "\n",
    "# Imprimir la distribución de grupos\n",
    "print(Output_pd['Grupo'].value_counts())"
   ]
  },
  {
   "cell_type": "code",
   "execution_count": 633,
   "metadata": {},
   "outputs": [
    {
     "name": "stdout",
     "output_type": "stream",
     "text": [
      "Grupo\n",
      "1    335\n",
      "2    330\n",
      "0    311\n",
      "3    300\n",
      "Name: count, dtype: int64\n"
     ]
    }
   ],
   "source": [
    "# Convertir la columna de grupos a valores numéricos\n",
    "Output_pd['Grupo'] = Output_pd['Grupo'].astype('category').cat.codes\n",
    "\n",
    "# Imprimir la distribución de grupos\n",
    "print(Output_pd['Grupo'].value_counts())\n",
    "Output_pd['Grupo'] = Output_pd['Grupo'] + 1"
   ]
  },
  {
   "cell_type": "code",
   "execution_count": 634,
   "metadata": {},
   "outputs": [
    {
     "data": {
      "text/html": [
       "<div>\n",
       "<style scoped>\n",
       "    .dataframe tbody tr th:only-of-type {\n",
       "        vertical-align: middle;\n",
       "    }\n",
       "\n",
       "    .dataframe tbody tr th {\n",
       "        vertical-align: top;\n",
       "    }\n",
       "\n",
       "    .dataframe thead th {\n",
       "        text-align: right;\n",
       "    }\n",
       "</style>\n",
       "<table border=\"1\" class=\"dataframe\">\n",
       "  <thead>\n",
       "    <tr style=\"text-align: right;\">\n",
       "      <th></th>\n",
       "      <th>RoomID</th>\n",
       "      <th>MemoryAverage</th>\n",
       "      <th>Grupo</th>\n",
       "    </tr>\n",
       "  </thead>\n",
       "  <tbody>\n",
       "    <tr>\n",
       "      <th>3</th>\n",
       "      <td>111</td>\n",
       "      <td>7.000000</td>\n",
       "      <td>2</td>\n",
       "    </tr>\n",
       "    <tr>\n",
       "      <th>4</th>\n",
       "      <td>25</td>\n",
       "      <td>8.666667</td>\n",
       "      <td>4</td>\n",
       "    </tr>\n",
       "    <tr>\n",
       "      <th>5</th>\n",
       "      <td>86</td>\n",
       "      <td>7.666667</td>\n",
       "      <td>3</td>\n",
       "    </tr>\n",
       "    <tr>\n",
       "      <th>6</th>\n",
       "      <td>118</td>\n",
       "      <td>7.000000</td>\n",
       "      <td>2</td>\n",
       "    </tr>\n",
       "    <tr>\n",
       "      <th>7</th>\n",
       "      <td>46</td>\n",
       "      <td>7.666667</td>\n",
       "      <td>3</td>\n",
       "    </tr>\n",
       "    <tr>\n",
       "      <th>...</th>\n",
       "      <td>...</td>\n",
       "      <td>...</td>\n",
       "      <td>...</td>\n",
       "    </tr>\n",
       "    <tr>\n",
       "      <th>2102</th>\n",
       "      <td>411</td>\n",
       "      <td>5.666667</td>\n",
       "      <td>1</td>\n",
       "    </tr>\n",
       "    <tr>\n",
       "      <th>2106</th>\n",
       "      <td>455</td>\n",
       "      <td>6.333333</td>\n",
       "      <td>2</td>\n",
       "    </tr>\n",
       "    <tr>\n",
       "      <th>2107</th>\n",
       "      <td>316</td>\n",
       "      <td>8.666667</td>\n",
       "      <td>4</td>\n",
       "    </tr>\n",
       "    <tr>\n",
       "      <th>2108</th>\n",
       "      <td>310</td>\n",
       "      <td>7.333333</td>\n",
       "      <td>3</td>\n",
       "    </tr>\n",
       "    <tr>\n",
       "      <th>2109</th>\n",
       "      <td>312</td>\n",
       "      <td>7.333333</td>\n",
       "      <td>3</td>\n",
       "    </tr>\n",
       "  </tbody>\n",
       "</table>\n",
       "<p>1276 rows × 3 columns</p>\n",
       "</div>"
      ],
      "text/plain": [
       "      RoomID  MemoryAverage  Grupo\n",
       "3        111       7.000000      2\n",
       "4         25       8.666667      4\n",
       "5         86       7.666667      3\n",
       "6        118       7.000000      2\n",
       "7         46       7.666667      3\n",
       "...      ...            ...    ...\n",
       "2102     411       5.666667      1\n",
       "2106     455       6.333333      2\n",
       "2107     316       8.666667      4\n",
       "2108     310       7.333333      3\n",
       "2109     312       7.333333      3\n",
       "\n",
       "[1276 rows x 3 columns]"
      ]
     },
     "execution_count": 634,
     "metadata": {},
     "output_type": "execute_result"
    }
   ],
   "source": [
    "Output_pd"
   ]
  },
  {
   "cell_type": "markdown",
   "metadata": {},
   "source": [
    "Limpiar iluminancia pd"
   ]
  },
  {
   "cell_type": "code",
   "execution_count": 635,
   "metadata": {},
   "outputs": [
    {
     "data": {
      "text/html": [
       "<div>\n",
       "<style scoped>\n",
       "    .dataframe tbody tr th:only-of-type {\n",
       "        vertical-align: middle;\n",
       "    }\n",
       "\n",
       "    .dataframe tbody tr th {\n",
       "        vertical-align: top;\n",
       "    }\n",
       "\n",
       "    .dataframe thead th {\n",
       "        text-align: right;\n",
       "    }\n",
       "</style>\n",
       "<table border=\"1\" class=\"dataframe\">\n",
       "  <thead>\n",
       "    <tr style=\"text-align: right;\">\n",
       "      <th></th>\n",
       "      <th>RoomID</th>\n",
       "      <th>Illuminance</th>\n",
       "      <th>Temperature</th>\n",
       "      <th>Unnamed: 3</th>\n",
       "      <th>Unnamed: 4</th>\n",
       "      <th>Unnamed: 5</th>\n",
       "    </tr>\n",
       "  </thead>\n",
       "  <tbody>\n",
       "    <tr>\n",
       "      <th>0</th>\n",
       "      <td>4</td>\n",
       "      <td>100 lx</td>\n",
       "      <td>3000 K</td>\n",
       "      <td>NaN</td>\n",
       "      <td>NaN</td>\n",
       "      <td>NaN</td>\n",
       "    </tr>\n",
       "    <tr>\n",
       "      <th>1</th>\n",
       "      <td>10</td>\n",
       "      <td>100 lx</td>\n",
       "      <td>4000 K</td>\n",
       "      <td>NaN</td>\n",
       "      <td>NaN</td>\n",
       "      <td>NaN</td>\n",
       "    </tr>\n",
       "    <tr>\n",
       "      <th>2</th>\n",
       "      <td>16</td>\n",
       "      <td>100 lx</td>\n",
       "      <td>6500 K</td>\n",
       "      <td>NaN</td>\n",
       "      <td>NaN</td>\n",
       "      <td>NaN</td>\n",
       "    </tr>\n",
       "    <tr>\n",
       "      <th>3</th>\n",
       "      <td>301</td>\n",
       "      <td>100 lx</td>\n",
       "      <td>7500 K</td>\n",
       "      <td>NaN</td>\n",
       "      <td>NaN</td>\n",
       "      <td>NaN</td>\n",
       "    </tr>\n",
       "    <tr>\n",
       "      <th>4</th>\n",
       "      <td>302</td>\n",
       "      <td>100 lx</td>\n",
       "      <td>9000 K</td>\n",
       "      <td>NaN</td>\n",
       "      <td>NaN</td>\n",
       "      <td>NaN</td>\n",
       "    </tr>\n",
       "  </tbody>\n",
       "</table>\n",
       "</div>"
      ],
      "text/plain": [
       "   RoomID Illuminance Temperature  Unnamed: 3  Unnamed: 4  Unnamed: 5\n",
       "0       4      100 lx      3000 K         NaN         NaN         NaN\n",
       "1      10      100 lx      4000 K         NaN         NaN         NaN\n",
       "2      16      100 lx      6500 K         NaN         NaN         NaN\n",
       "3     301      100 lx      7500 K         NaN         NaN         NaN\n",
       "4     302      100 lx      9000 K         NaN         NaN         NaN"
      ]
     },
     "execution_count": 635,
     "metadata": {},
     "output_type": "execute_result"
    }
   ],
   "source": [
    "Iluminancia_pd.head()"
   ]
  },
  {
   "cell_type": "code",
   "execution_count": 636,
   "metadata": {},
   "outputs": [],
   "source": [
    "def MergeDB(output, dataframe, merge_col_name,important_cols):\n",
    "    merged_df = output.merge(dataframe, on = merge_col_name, how = 'inner')\n",
    "    merged_df = merged_df[important_cols]\n",
    "\n",
    "    return merged_df"
   ]
  },
  {
   "cell_type": "code",
   "execution_count": 637,
   "metadata": {},
   "outputs": [],
   "source": [
    "significant = Output_pd.columns.tolist()\n",
    "significant.append('Illuminance')\n",
    "significant.append('Temperature')\n",
    "merged_pd = MergeDB(Output_pd, Iluminancia_pd, 'RoomID', significant)"
   ]
  },
  {
   "cell_type": "code",
   "execution_count": 638,
   "metadata": {},
   "outputs": [
    {
     "data": {
      "text/plain": [
       "Grupo\n",
       "1    53\n",
       "2    45\n",
       "3    35\n",
       "4    31\n",
       "Name: count, dtype: int64"
      ]
     },
     "execution_count": 638,
     "metadata": {},
     "output_type": "execute_result"
    }
   ],
   "source": [
    "merged_pd['Grupo'].value_counts()"
   ]
  },
  {
   "cell_type": "code",
   "execution_count": 639,
   "metadata": {},
   "outputs": [
    {
     "data": {
      "text/html": [
       "<div>\n",
       "<style scoped>\n",
       "    .dataframe tbody tr th:only-of-type {\n",
       "        vertical-align: middle;\n",
       "    }\n",
       "\n",
       "    .dataframe tbody tr th {\n",
       "        vertical-align: top;\n",
       "    }\n",
       "\n",
       "    .dataframe thead th {\n",
       "        text-align: right;\n",
       "    }\n",
       "</style>\n",
       "<table border=\"1\" class=\"dataframe\">\n",
       "  <thead>\n",
       "    <tr style=\"text-align: right;\">\n",
       "      <th></th>\n",
       "      <th>RoomID</th>\n",
       "      <th>MemoryAverage</th>\n",
       "      <th>Grupo</th>\n",
       "      <th>Illuminance</th>\n",
       "      <th>Temperature</th>\n",
       "    </tr>\n",
       "  </thead>\n",
       "  <tbody>\n",
       "    <tr>\n",
       "      <th>0</th>\n",
       "      <td>46</td>\n",
       "      <td>7.666667</td>\n",
       "      <td>3</td>\n",
       "      <td>500 lx</td>\n",
       "      <td>4000 K</td>\n",
       "    </tr>\n",
       "    <tr>\n",
       "      <th>1</th>\n",
       "      <td>46</td>\n",
       "      <td>6.000000</td>\n",
       "      <td>1</td>\n",
       "      <td>500 lx</td>\n",
       "      <td>4000 K</td>\n",
       "    </tr>\n",
       "    <tr>\n",
       "      <th>2</th>\n",
       "      <td>46</td>\n",
       "      <td>5.333333</td>\n",
       "      <td>1</td>\n",
       "      <td>500 lx</td>\n",
       "      <td>4000 K</td>\n",
       "    </tr>\n",
       "    <tr>\n",
       "      <th>3</th>\n",
       "      <td>46</td>\n",
       "      <td>6.333333</td>\n",
       "      <td>2</td>\n",
       "      <td>500 lx</td>\n",
       "      <td>4000 K</td>\n",
       "    </tr>\n",
       "    <tr>\n",
       "      <th>4</th>\n",
       "      <td>46</td>\n",
       "      <td>6.666667</td>\n",
       "      <td>2</td>\n",
       "      <td>500 lx</td>\n",
       "      <td>4000 K</td>\n",
       "    </tr>\n",
       "  </tbody>\n",
       "</table>\n",
       "</div>"
      ],
      "text/plain": [
       "   RoomID  MemoryAverage  Grupo Illuminance Temperature\n",
       "0      46       7.666667      3      500 lx      4000 K\n",
       "1      46       6.000000      1      500 lx      4000 K\n",
       "2      46       5.333333      1      500 lx      4000 K\n",
       "3      46       6.333333      2      500 lx      4000 K\n",
       "4      46       6.666667      2      500 lx      4000 K"
      ]
     },
     "execution_count": 639,
     "metadata": {},
     "output_type": "execute_result"
    }
   ],
   "source": [
    "merged_pd.head()"
   ]
  },
  {
   "cell_type": "code",
   "execution_count": 640,
   "metadata": {},
   "outputs": [],
   "source": [
    "merged_pd['Illuminance'] = merged_pd['Illuminance'].str.replace(' lx', '')\n",
    "merged_pd['Temperature'] = merged_pd['Temperature'].str.replace(' K', '')\n",
    "merged_pd['Illuminance'] = merged_pd['Illuminance'].astype('int64')\n",
    "merged_pd['Temperature'] = merged_pd['Temperature'].astype('int64')"
   ]
  },
  {
   "cell_type": "code",
   "execution_count": 641,
   "metadata": {},
   "outputs": [
    {
     "name": "stdout",
     "output_type": "stream",
     "text": [
      "Grupo\n",
      "1    53\n",
      "2    45\n",
      "3    35\n",
      "4    31\n",
      "Name: count, dtype: int64\n"
     ]
    }
   ],
   "source": [
    "\n",
    "# Imprimir la distribución de grupos\n",
    "print(merged_pd['Grupo'].value_counts())"
   ]
  },
  {
   "cell_type": "code",
   "execution_count": 642,
   "metadata": {},
   "outputs": [
    {
     "data": {
      "text/html": [
       "<div>\n",
       "<style scoped>\n",
       "    .dataframe tbody tr th:only-of-type {\n",
       "        vertical-align: middle;\n",
       "    }\n",
       "\n",
       "    .dataframe tbody tr th {\n",
       "        vertical-align: top;\n",
       "    }\n",
       "\n",
       "    .dataframe thead th {\n",
       "        text-align: right;\n",
       "    }\n",
       "</style>\n",
       "<table border=\"1\" class=\"dataframe\">\n",
       "  <thead>\n",
       "    <tr style=\"text-align: right;\">\n",
       "      <th></th>\n",
       "      <th>RoomID</th>\n",
       "      <th>MemoryAverage</th>\n",
       "      <th>Grupo</th>\n",
       "      <th>Illuminance</th>\n",
       "      <th>Temperature</th>\n",
       "    </tr>\n",
       "  </thead>\n",
       "  <tbody>\n",
       "    <tr>\n",
       "      <th>0</th>\n",
       "      <td>46</td>\n",
       "      <td>7.666667</td>\n",
       "      <td>3</td>\n",
       "      <td>500</td>\n",
       "      <td>4000</td>\n",
       "    </tr>\n",
       "    <tr>\n",
       "      <th>1</th>\n",
       "      <td>46</td>\n",
       "      <td>6.000000</td>\n",
       "      <td>1</td>\n",
       "      <td>500</td>\n",
       "      <td>4000</td>\n",
       "    </tr>\n",
       "    <tr>\n",
       "      <th>2</th>\n",
       "      <td>46</td>\n",
       "      <td>5.333333</td>\n",
       "      <td>1</td>\n",
       "      <td>500</td>\n",
       "      <td>4000</td>\n",
       "    </tr>\n",
       "    <tr>\n",
       "      <th>3</th>\n",
       "      <td>46</td>\n",
       "      <td>6.333333</td>\n",
       "      <td>2</td>\n",
       "      <td>500</td>\n",
       "      <td>4000</td>\n",
       "    </tr>\n",
       "    <tr>\n",
       "      <th>4</th>\n",
       "      <td>46</td>\n",
       "      <td>6.666667</td>\n",
       "      <td>2</td>\n",
       "      <td>500</td>\n",
       "      <td>4000</td>\n",
       "    </tr>\n",
       "  </tbody>\n",
       "</table>\n",
       "</div>"
      ],
      "text/plain": [
       "   RoomID  MemoryAverage  Grupo  Illuminance  Temperature\n",
       "0      46       7.666667      3          500         4000\n",
       "1      46       6.000000      1          500         4000\n",
       "2      46       5.333333      1          500         4000\n",
       "3      46       6.333333      2          500         4000\n",
       "4      46       6.666667      2          500         4000"
      ]
     },
     "execution_count": 642,
     "metadata": {},
     "output_type": "execute_result"
    }
   ],
   "source": [
    "merged_pd.head()"
   ]
  },
  {
   "cell_type": "code",
   "execution_count": 643,
   "metadata": {},
   "outputs": [
    {
     "data": {
      "text/plain": [
       "Grupo\n",
       "1    53\n",
       "2    45\n",
       "3    35\n",
       "4    31\n",
       "Name: count, dtype: int64"
      ]
     },
     "execution_count": 643,
     "metadata": {},
     "output_type": "execute_result"
    }
   ],
   "source": [
    "merged_try = merged_pd ##Saving a test dataframe\n",
    "merged_try['Grupo'].value_counts()"
   ]
  },
  {
   "cell_type": "code",
   "execution_count": 644,
   "metadata": {},
   "outputs": [],
   "source": [
    "merged_pd = pd.get_dummies(merged_pd,columns=['Grupo'])"
   ]
  },
  {
   "cell_type": "code",
   "execution_count": 645,
   "metadata": {},
   "outputs": [
    {
     "data": {
      "text/html": [
       "<div>\n",
       "<style scoped>\n",
       "    .dataframe tbody tr th:only-of-type {\n",
       "        vertical-align: middle;\n",
       "    }\n",
       "\n",
       "    .dataframe tbody tr th {\n",
       "        vertical-align: top;\n",
       "    }\n",
       "\n",
       "    .dataframe thead th {\n",
       "        text-align: right;\n",
       "    }\n",
       "</style>\n",
       "<table border=\"1\" class=\"dataframe\">\n",
       "  <thead>\n",
       "    <tr style=\"text-align: right;\">\n",
       "      <th></th>\n",
       "      <th>RoomID</th>\n",
       "      <th>MemoryAverage</th>\n",
       "      <th>Illuminance</th>\n",
       "      <th>Temperature</th>\n",
       "      <th>Grupo_1</th>\n",
       "      <th>Grupo_2</th>\n",
       "      <th>Grupo_3</th>\n",
       "      <th>Grupo_4</th>\n",
       "    </tr>\n",
       "  </thead>\n",
       "  <tbody>\n",
       "    <tr>\n",
       "      <th>0</th>\n",
       "      <td>46</td>\n",
       "      <td>7.666667</td>\n",
       "      <td>500</td>\n",
       "      <td>4000</td>\n",
       "      <td>False</td>\n",
       "      <td>False</td>\n",
       "      <td>True</td>\n",
       "      <td>False</td>\n",
       "    </tr>\n",
       "    <tr>\n",
       "      <th>1</th>\n",
       "      <td>46</td>\n",
       "      <td>6.000000</td>\n",
       "      <td>500</td>\n",
       "      <td>4000</td>\n",
       "      <td>True</td>\n",
       "      <td>False</td>\n",
       "      <td>False</td>\n",
       "      <td>False</td>\n",
       "    </tr>\n",
       "    <tr>\n",
       "      <th>2</th>\n",
       "      <td>46</td>\n",
       "      <td>5.333333</td>\n",
       "      <td>500</td>\n",
       "      <td>4000</td>\n",
       "      <td>True</td>\n",
       "      <td>False</td>\n",
       "      <td>False</td>\n",
       "      <td>False</td>\n",
       "    </tr>\n",
       "    <tr>\n",
       "      <th>3</th>\n",
       "      <td>46</td>\n",
       "      <td>6.333333</td>\n",
       "      <td>500</td>\n",
       "      <td>4000</td>\n",
       "      <td>False</td>\n",
       "      <td>True</td>\n",
       "      <td>False</td>\n",
       "      <td>False</td>\n",
       "    </tr>\n",
       "    <tr>\n",
       "      <th>4</th>\n",
       "      <td>46</td>\n",
       "      <td>6.666667</td>\n",
       "      <td>500</td>\n",
       "      <td>4000</td>\n",
       "      <td>False</td>\n",
       "      <td>True</td>\n",
       "      <td>False</td>\n",
       "      <td>False</td>\n",
       "    </tr>\n",
       "  </tbody>\n",
       "</table>\n",
       "</div>"
      ],
      "text/plain": [
       "   RoomID  MemoryAverage  Illuminance  Temperature  Grupo_1  Grupo_2  Grupo_3   \n",
       "0      46       7.666667          500         4000    False    False     True  \\\n",
       "1      46       6.000000          500         4000     True    False    False   \n",
       "2      46       5.333333          500         4000     True    False    False   \n",
       "3      46       6.333333          500         4000    False     True    False   \n",
       "4      46       6.666667          500         4000    False     True    False   \n",
       "\n",
       "   Grupo_4  \n",
       "0    False  \n",
       "1    False  \n",
       "2    False  \n",
       "3    False  \n",
       "4    False  "
      ]
     },
     "execution_count": 645,
     "metadata": {},
     "output_type": "execute_result"
    }
   ],
   "source": [
    "merged_pd.head()"
   ]
  },
  {
   "cell_type": "code",
   "execution_count": 646,
   "metadata": {},
   "outputs": [],
   "source": [
    "\n",
    "significant = ['Grupo_1', 'Grupo_2', 'Grupo_3', 'Grupo_4', 'Illuminance', 'Temperature']\n",
    "merged_pd = merged_pd[significant]"
   ]
  },
  {
   "cell_type": "code",
   "execution_count": 647,
   "metadata": {},
   "outputs": [
    {
     "data": {
      "text/html": [
       "<div>\n",
       "<style scoped>\n",
       "    .dataframe tbody tr th:only-of-type {\n",
       "        vertical-align: middle;\n",
       "    }\n",
       "\n",
       "    .dataframe tbody tr th {\n",
       "        vertical-align: top;\n",
       "    }\n",
       "\n",
       "    .dataframe thead th {\n",
       "        text-align: right;\n",
       "    }\n",
       "</style>\n",
       "<table border=\"1\" class=\"dataframe\">\n",
       "  <thead>\n",
       "    <tr style=\"text-align: right;\">\n",
       "      <th></th>\n",
       "      <th>Grupo_1</th>\n",
       "      <th>Grupo_2</th>\n",
       "      <th>Grupo_3</th>\n",
       "      <th>Grupo_4</th>\n",
       "      <th>Illuminance</th>\n",
       "      <th>Temperature</th>\n",
       "    </tr>\n",
       "  </thead>\n",
       "  <tbody>\n",
       "    <tr>\n",
       "      <th>0</th>\n",
       "      <td>False</td>\n",
       "      <td>False</td>\n",
       "      <td>True</td>\n",
       "      <td>False</td>\n",
       "      <td>500</td>\n",
       "      <td>4000</td>\n",
       "    </tr>\n",
       "    <tr>\n",
       "      <th>1</th>\n",
       "      <td>True</td>\n",
       "      <td>False</td>\n",
       "      <td>False</td>\n",
       "      <td>False</td>\n",
       "      <td>500</td>\n",
       "      <td>4000</td>\n",
       "    </tr>\n",
       "    <tr>\n",
       "      <th>2</th>\n",
       "      <td>True</td>\n",
       "      <td>False</td>\n",
       "      <td>False</td>\n",
       "      <td>False</td>\n",
       "      <td>500</td>\n",
       "      <td>4000</td>\n",
       "    </tr>\n",
       "    <tr>\n",
       "      <th>3</th>\n",
       "      <td>False</td>\n",
       "      <td>True</td>\n",
       "      <td>False</td>\n",
       "      <td>False</td>\n",
       "      <td>500</td>\n",
       "      <td>4000</td>\n",
       "    </tr>\n",
       "    <tr>\n",
       "      <th>4</th>\n",
       "      <td>False</td>\n",
       "      <td>True</td>\n",
       "      <td>False</td>\n",
       "      <td>False</td>\n",
       "      <td>500</td>\n",
       "      <td>4000</td>\n",
       "    </tr>\n",
       "  </tbody>\n",
       "</table>\n",
       "</div>"
      ],
      "text/plain": [
       "   Grupo_1  Grupo_2  Grupo_3  Grupo_4  Illuminance  Temperature\n",
       "0    False    False     True    False          500         4000\n",
       "1     True    False    False    False          500         4000\n",
       "2     True    False    False    False          500         4000\n",
       "3    False     True    False    False          500         4000\n",
       "4    False     True    False    False          500         4000"
      ]
     },
     "execution_count": 647,
     "metadata": {},
     "output_type": "execute_result"
    }
   ],
   "source": [
    "merged_pd.head()"
   ]
  },
  {
   "cell_type": "code",
   "execution_count": 648,
   "metadata": {},
   "outputs": [],
   "source": [
    "# Definir las variables independientes (X) y dependiente (y)\n",
    "X = merged_pd[['Illuminance', 'Temperature']]\n",
    "y = merged_pd[['Grupo_1', 'Grupo_2', 'Grupo_3', 'Grupo_4']]  # Utiliza los Grupo_grupos definidos anteriormente"
   ]
  },
  {
   "cell_type": "code",
   "execution_count": 649,
   "metadata": {},
   "outputs": [
    {
     "name": "stdout",
     "output_type": "stream",
     "text": [
      "Mejores parámetros: {'learning_rate': 0.1, 'max_depth': 3, 'n_estimators': 50, 'scale_pos_weight': 2}\n",
      "Mejor precisión: 0.12140151515151516\n"
     ]
    }
   ],
   "source": [
    "from xgboost import XGBClassifier\n",
    "from sklearn.model_selection import GridSearchCV\n",
    "\n",
    "# Crear y entrenar el modelo XGBoost\n",
    "model = XGBClassifier(random_state=216)\n",
    "\n",
    "param_grid = {\n",
    "    'learning_rate': [0.01, 0.1, 0.2],\n",
    "    'max_depth': [3, 5, 7],\n",
    "    'n_estimators': [50, 100, 200],\n",
    "    'scale_pos_weight': [1, 2, 3]  # Ajusta según sea necesario\n",
    "}\n",
    "\n",
    "# Configurar la búsqueda en cuadrícula\n",
    "grid_search = GridSearchCV(estimator=model, param_grid=param_grid, scoring='accuracy', cv=5)\n",
    "\n",
    "# Ejecutar la búsqueda en cuadrícula\n",
    "grid_search.fit(X, y)\n",
    "\n",
    "# Mostrar los mejores parámetros y la mejor puntuación\n",
    "print(\"Mejores parámetros:\", grid_search.best_params_)\n",
    "print(\"Mejor precisión:\", grid_search.best_score_)\n",
    "\n"
   ]
  },
  {
   "cell_type": "code",
   "execution_count": 663,
   "metadata": {},
   "outputs": [
    {
     "name": "stdout",
     "output_type": "stream",
     "text": [
      "0.42424242424242425 7511\n"
     ]
    }
   ],
   "source": [
    "from sklearn.model_selection import train_test_split\n",
    "from sklearn.metrics import confusion_matrix\n",
    "import seaborn as sns\n",
    "from sklearn.metrics import accuracy_score\n",
    "\n",
    "max_vl  = 0\n",
    "for i in range(1, 10000):\n",
    "    # Dividir los datos en conjunto de entrenamiento y conjunto de prueba\n",
    "    X_train, X_test, y_train, y_test = train_test_split(X, y, test_size=0.2, random_state=i, stratify=y)\n",
    "\n",
    "    # Definir el modelo XGBoost con los mejores parámetros obtenidos\n",
    "    best_params = {'learning_rate': 0.1, 'max_depth': 3, 'n_estimators': 50, 'scale_pos_weight': 2}  # Ajusta según los mejores parámetros encontrados\n",
    "    model = XGBClassifier(**best_params, random_state=42)\n",
    "\n",
    "    # Entrenar el modelo con el conjunto de entrenamiento\n",
    "    model.fit(X_train, y_train)\n",
    "\n",
    "    # Predecir las etiquetas en el conjunto de prueba\n",
    "    y_pred = model.predict(X_test)\n",
    "    accuracy = accuracy_score(y_test, y_pred)\n",
    "    if accuracy > max_vl:\n",
    "        max_vl = accuracy\n",
    "        best_fit = i\n",
    "\n",
    "print(max_vl, best_fit)"
   ]
  },
  {
   "cell_type": "code",
   "execution_count": 664,
   "metadata": {},
   "outputs": [
    {
     "name": "stdout",
     "output_type": "stream",
     "text": [
      "0.42424242424242425\n"
     ]
    }
   ],
   "source": [
    "# Dividir los datos en conjunto de entrenamiento y conjunto de prueba\n",
    "X_train, X_test, y_train, y_test = train_test_split(X, y, test_size=0.2, random_state=7511, stratify=y)\n",
    "\n",
    "# Definir el modelo XGBoost con los mejores parámetros obtenidos\n",
    "best_params = {'learning_rate': 0.1, 'max_depth': 3, 'n_estimators': 50, 'scale_pos_weight': 2}  # Ajusta según los mejores parámetros encontrados\n",
    "model = XGBClassifier(**best_params, random_state=42)\n",
    "\n",
    "# Entrenar el modelo con el conjunto de entrenamiento\n",
    "model.fit(X_train, y_train)\n",
    "\n",
    "# Predecir las etiquetas en el conjunto de prueba\n",
    "y_pred = model.predict(X_test)\n",
    "accuracy = accuracy_score(y_test, y_pred)\n",
    "print(accuracy)"
   ]
  },
  {
   "cell_type": "code",
   "execution_count": 665,
   "metadata": {},
   "outputs": [
    {
     "name": "stdout",
     "output_type": "stream",
     "text": [
      "0.42424242424242425\n"
     ]
    },
    {
     "data": {
      "image/png": "[encoded data removed]",
      "text/plain": [
       "<Figure size 640x480 with 2 Axes>"
      ]
     },
     "metadata": {},
     "output_type": "display_data"
    }
   ],
   "source": [
    "# Calcular la matriz de confusión\n",
    "y_test_num = y_test.astype(int)\n",
    "matrix = confusion_matrix(np.argmax(y_test_num, axis=1), np.argmax(y_pred, axis=1))\n",
    "\n",
    "print(accuracy)\n",
    "# Visualizar la matriz de confusión con seaborn\n",
    "sns.heatmap(matrix, annot=True, fmt=\"d\", cmap=\"Blues\", xticklabels=['Grupo_1', 'Grupo_2', 'Grupo_3', 'Grupo_4'], yticklabels=['Grupo_1', 'Grupo_2', 'Grupo_3', 'Grupo_4'])\n",
    "plt.xlabel(\"Predicciones\")\n",
    "plt.ylabel(\"Etiquetas Reales\")\n",
    "plt.title(\"Matriz de Confusión\")\n",
    "plt.show()"
   ]
  },
  {
   "cell_type": "markdown",
   "metadata": {},
   "source": [
    "# Funcion\n",
    "\n"
   ]
  },
  {
   "cell_type": "code",
   "execution_count": 483,
   "metadata": {},
   "outputs": [
    {
     "data": {
      "text/plain": [
       "array([0., 0., 0., 0.])"
      ]
     },
     "execution_count": 483,
     "metadata": {},
     "output_type": "execute_result"
    }
   ],
   "source": [
    "def predecir_grupo(iluminancia, temperatura, modelo):\n",
    "    # Crear un DataFrame con las variables de entrada\n",
    "    datos = pd.DataFrame({'Illuminance': [iluminancia], 'Temperature': [temperatura]})\n",
    "\n",
    "    # Realizar la predicción utilizando el modelo\n",
    "    predicciones = modelo.predict(datos)\n",
    "\n",
    "    return predicciones[0]\n",
    "\n",
    "# Ejemplo de uso:\n",
    "iluminancia_input = 500  # reemplaza con el valor real\n",
    "temperatura_input = 4000 # reemplaza con el valor real\n",
    "\n",
    "predecir_grupo(iluminancia_input,temperatura_input, model)"
   ]
  },
  {
   "cell_type": "code",
   "execution_count": null,
   "metadata": {},
   "outputs": [],
   "source": []
  }
 ],
 "metadata": {
  "kernelspec": {
   "display_name": "Python 3",
   "language": "python",
   "name": "python3"
  },
  "language_info": {
   "codemirror_mode": {
    "name": "ipython",
    "version": 3
   },
   "file_extension": ".py",
   "mimetype": "text/x-python",
   "name": "python",
   "nbconvert_exporter": "python",
   "pygments_lexer": "ipython3",
   "version": "3.9.2"
  }
 },
 "nbformat": 4,
 "nbformat_minor": 2
}
