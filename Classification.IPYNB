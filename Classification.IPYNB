{
 "cells": [
  {
   "cell_type": "code",
   "execution_count": 1,
   "metadata": {},
   "outputs": [],
   "source": [
    "import pandas as pd \n",
    "import numpy as np\n",
    "import csv\n",
    "import matplotlib.pyplot as plt\n",
    "#### Modelo\n",
    "from xgboost import XGBClassifier\n",
    "from sklearn.model_selection import GridSearchCV\n",
    "from sklearn.model_selection import train_test_split\n",
    "from sklearn.metrics import confusion_matrix\n",
    "import seaborn as sns\n",
    "from sklearn.metrics import accuracy_score"
   ]
  },
  {
   "cell_type": "code",
   "execution_count": 2,
   "metadata": {},
   "outputs": [],
   "source": [
    "#Funcion para hacer merge de bases de datos\n",
    "def MergeDB(output, dataframe, merge_col_name,important_cols):\n",
    "    merged_df = output.merge(dataframe, on = merge_col_name, how = 'inner')\n",
    "    merged_df = merged_df[important_cols]\n",
    "\n",
    "    return merged_df"
   ]
  },
  {
   "cell_type": "code",
   "execution_count": 3,
   "metadata": {},
   "outputs": [],
   "source": [
    "#Lee bases de datos\n",
    "Iluminancia_pd = pd.read_csv(\"D:\\home\\[00]_Projects\\[01]_School\\MachineLearning\\Bases_datos\\Iluminancia.csv\")\n",
    "Output_pd = pd.read_csv(\"D:\\home\\[00]_Projects\\[01]_School\\MachineLearning\\Bases_datos\\outputActualizado.csv\")"
   ]
  },
  {
   "cell_type": "markdown",
   "metadata": {},
   "source": [
    "# Limpiamos la base de datos output"
   ]
  },
  {
   "cell_type": "code",
   "execution_count": 4,
   "metadata": {},
   "outputs": [],
   "source": [
    "Output_pd = Output_pd.dropna()"
   ]
  },
  {
   "cell_type": "code",
   "execution_count": 5,
   "metadata": {},
   "outputs": [],
   "source": [
    "##Tomamos valores numéricos\n",
    "check_no_alpha = Output_pd['RoomID'].str.isnumeric()\n",
    "Output_pd = Output_pd[check_no_alpha]\n",
    "\n",
    "#Cambiamos el nombre de la columna de Room Id del output y le cambiamos el tipo\n",
    "Output_pd['RoomID'] = Output_pd['RoomID'].astype('int64')"
   ]
  },
  {
   "cell_type": "code",
   "execution_count": 6,
   "metadata": {},
   "outputs": [],
   "source": [
    "#Tomamos únicamente las columnas que queremos\n",
    "significant = ['RoomID', 'MemoryAverage']"
   ]
  },
  {
   "cell_type": "code",
   "execution_count": 7,
   "metadata": {},
   "outputs": [],
   "source": [
    "#Actualizamos la base\n",
    "Output_pd = Output_pd[significant]"
   ]
  },
  {
   "cell_type": "code",
   "execution_count": 8,
   "metadata": {},
   "outputs": [
    {
     "name": "stdout",
     "output_type": "stream",
     "text": [
      "Grupo\n",
      "Grupo_4    418\n",
      "Grupo_2    413\n",
      "Grupo_1    233\n",
      "Grupo_3    212\n",
      "Name: count, dtype: int64\n"
     ]
    }
   ],
   "source": [
    "# Definir los límites de cuantiles para la estratificación\n",
    "cuantiles = [0, 0.13, 0.4, 0.66, 1]\n",
    "# Aplicar la estratificación basada en cuantiles\n",
    "Output_pd['Grupo'] = pd.qcut(Output_pd['MemoryAverage'], cuantiles, labels=['Grupo_1', 'Grupo_2', 'Grupo_3', 'Grupo_4'])\n",
    "# Imprimir la distribución de grupos\n",
    "print(Output_pd['Grupo'].value_counts())"
   ]
  },
  {
   "cell_type": "code",
   "execution_count": 9,
   "metadata": {},
   "outputs": [
    {
     "name": "stdout",
     "output_type": "stream",
     "text": [
      "Grupo\n",
      "4    418\n",
      "2    413\n",
      "1    233\n",
      "3    212\n",
      "Name: count, dtype: int64\n"
     ]
    }
   ],
   "source": [
    "# Convertir la columna de grupos a valores numéricos\n",
    "Output_pd['Grupo'] = Output_pd['Grupo'].astype('category').cat.codes\n",
    "# Los grupos se toman del 0 al 3, por lo que sumamos 1 para la representación de 1 a 4\n",
    "Output_pd['Grupo'] = Output_pd['Grupo'] + 1\n",
    "# Imprimir la distribución de grupos\n",
    "print(Output_pd['Grupo'].value_counts())"
   ]
  },
  {
   "cell_type": "markdown",
   "metadata": {},
   "source": [
    "# Limpiar iluminancia pd y juntamos las bases"
   ]
  },
  {
   "cell_type": "code",
   "execution_count": 10,
   "metadata": {},
   "outputs": [
    {
     "data": {
      "text/html": [
       "<div>\n",
       "<style scoped>\n",
       "    .dataframe tbody tr th:only-of-type {\n",
       "        vertical-align: middle;\n",
       "    }\n",
       "\n",
       "    .dataframe tbody tr th {\n",
       "        vertical-align: top;\n",
       "    }\n",
       "\n",
       "    .dataframe thead th {\n",
       "        text-align: right;\n",
       "    }\n",
       "</style>\n",
       "<table border=\"1\" class=\"dataframe\">\n",
       "  <thead>\n",
       "    <tr style=\"text-align: right;\">\n",
       "      <th></th>\n",
       "      <th>RoomID</th>\n",
       "      <th>Illuminance</th>\n",
       "      <th>Temperature</th>\n",
       "      <th>Unnamed: 3</th>\n",
       "      <th>Unnamed: 4</th>\n",
       "      <th>Unnamed: 5</th>\n",
       "    </tr>\n",
       "  </thead>\n",
       "  <tbody>\n",
       "    <tr>\n",
       "      <th>0</th>\n",
       "      <td>4</td>\n",
       "      <td>100 lx</td>\n",
       "      <td>3000 K</td>\n",
       "      <td>NaN</td>\n",
       "      <td>NaN</td>\n",
       "      <td>NaN</td>\n",
       "    </tr>\n",
       "    <tr>\n",
       "      <th>1</th>\n",
       "      <td>10</td>\n",
       "      <td>100 lx</td>\n",
       "      <td>4000 K</td>\n",
       "      <td>NaN</td>\n",
       "      <td>NaN</td>\n",
       "      <td>NaN</td>\n",
       "    </tr>\n",
       "    <tr>\n",
       "      <th>2</th>\n",
       "      <td>16</td>\n",
       "      <td>100 lx</td>\n",
       "      <td>6500 K</td>\n",
       "      <td>NaN</td>\n",
       "      <td>NaN</td>\n",
       "      <td>NaN</td>\n",
       "    </tr>\n",
       "    <tr>\n",
       "      <th>3</th>\n",
       "      <td>301</td>\n",
       "      <td>100 lx</td>\n",
       "      <td>7500 K</td>\n",
       "      <td>NaN</td>\n",
       "      <td>NaN</td>\n",
       "      <td>NaN</td>\n",
       "    </tr>\n",
       "    <tr>\n",
       "      <th>4</th>\n",
       "      <td>302</td>\n",
       "      <td>100 lx</td>\n",
       "      <td>9000 K</td>\n",
       "      <td>NaN</td>\n",
       "      <td>NaN</td>\n",
       "      <td>NaN</td>\n",
       "    </tr>\n",
       "  </tbody>\n",
       "</table>\n",
       "</div>"
      ],
      "text/plain": [
       "   RoomID Illuminance Temperature  Unnamed: 3  Unnamed: 4  Unnamed: 5\n",
       "0       4      100 lx      3000 K         NaN         NaN         NaN\n",
       "1      10      100 lx      4000 K         NaN         NaN         NaN\n",
       "2      16      100 lx      6500 K         NaN         NaN         NaN\n",
       "3     301      100 lx      7500 K         NaN         NaN         NaN\n",
       "4     302      100 lx      9000 K         NaN         NaN         NaN"
      ]
     },
     "execution_count": 10,
     "metadata": {},
     "output_type": "execute_result"
    }
   ],
   "source": [
    "Iluminancia_pd.head()"
   ]
  },
  {
   "cell_type": "code",
   "execution_count": 11,
   "metadata": {},
   "outputs": [],
   "source": [
    "# Tomamos las columnas de Output y agregamos las importantes de iluminancia.csv\n",
    "significant = Output_pd.columns.tolist()\n",
    "significant.append('Illuminance')\n",
    "significant.append('Temperature')"
   ]
  },
  {
   "cell_type": "code",
   "execution_count": 12,
   "metadata": {},
   "outputs": [],
   "source": [
    "# Juntamos las bases de datos con la función del inicio\n",
    "merged_pd = MergeDB(Output_pd, Iluminancia_pd, 'RoomID', significant)"
   ]
  },
  {
   "cell_type": "code",
   "execution_count": 13,
   "metadata": {},
   "outputs": [
    {
     "data": {
      "text/plain": [
       "Grupo\n",
       "2    58\n",
       "4    42\n",
       "1    40\n",
       "3    24\n",
       "Name: count, dtype: int64"
      ]
     },
     "execution_count": 13,
     "metadata": {},
     "output_type": "execute_result"
    }
   ],
   "source": [
    "# verificamos como quedaron los grupos distribuidos\n",
    "merged_pd['Grupo'].value_counts()"
   ]
  },
  {
   "cell_type": "code",
   "execution_count": 14,
   "metadata": {},
   "outputs": [],
   "source": [
    "# Eliminamos las unidades y cambiamos el tipo de datos\n",
    "merged_pd['Illuminance'] = merged_pd['Illuminance'].str.replace(' lx', '')\n",
    "merged_pd['Temperature'] = merged_pd['Temperature'].str.replace(' K', '')\n",
    "merged_pd['Illuminance'] = merged_pd['Illuminance'].astype('int64')\n",
    "merged_pd['Temperature'] = merged_pd['Temperature'].astype('int64')"
   ]
  },
  {
   "cell_type": "code",
   "execution_count": 15,
   "metadata": {},
   "outputs": [
    {
     "data": {
      "text/html": [
       "<div>\n",
       "<style scoped>\n",
       "    .dataframe tbody tr th:only-of-type {\n",
       "        vertical-align: middle;\n",
       "    }\n",
       "\n",
       "    .dataframe tbody tr th {\n",
       "        vertical-align: top;\n",
       "    }\n",
       "\n",
       "    .dataframe thead th {\n",
       "        text-align: right;\n",
       "    }\n",
       "</style>\n",
       "<table border=\"1\" class=\"dataframe\">\n",
       "  <thead>\n",
       "    <tr style=\"text-align: right;\">\n",
       "      <th></th>\n",
       "      <th>RoomID</th>\n",
       "      <th>MemoryAverage</th>\n",
       "      <th>Grupo</th>\n",
       "      <th>Illuminance</th>\n",
       "      <th>Temperature</th>\n",
       "    </tr>\n",
       "  </thead>\n",
       "  <tbody>\n",
       "    <tr>\n",
       "      <th>0</th>\n",
       "      <td>46</td>\n",
       "      <td>7.666667</td>\n",
       "      <td>3</td>\n",
       "      <td>500</td>\n",
       "      <td>4000</td>\n",
       "    </tr>\n",
       "    <tr>\n",
       "      <th>1</th>\n",
       "      <td>46</td>\n",
       "      <td>6.000000</td>\n",
       "      <td>2</td>\n",
       "      <td>500</td>\n",
       "      <td>4000</td>\n",
       "    </tr>\n",
       "    <tr>\n",
       "      <th>2</th>\n",
       "      <td>46</td>\n",
       "      <td>5.333333</td>\n",
       "      <td>1</td>\n",
       "      <td>500</td>\n",
       "      <td>4000</td>\n",
       "    </tr>\n",
       "    <tr>\n",
       "      <th>3</th>\n",
       "      <td>46</td>\n",
       "      <td>6.333333</td>\n",
       "      <td>2</td>\n",
       "      <td>500</td>\n",
       "      <td>4000</td>\n",
       "    </tr>\n",
       "    <tr>\n",
       "      <th>4</th>\n",
       "      <td>46</td>\n",
       "      <td>6.666667</td>\n",
       "      <td>2</td>\n",
       "      <td>500</td>\n",
       "      <td>4000</td>\n",
       "    </tr>\n",
       "  </tbody>\n",
       "</table>\n",
       "</div>"
      ],
      "text/plain": [
       "   RoomID  MemoryAverage  Grupo  Illuminance  Temperature\n",
       "0      46       7.666667      3          500         4000\n",
       "1      46       6.000000      2          500         4000\n",
       "2      46       5.333333      1          500         4000\n",
       "3      46       6.333333      2          500         4000\n",
       "4      46       6.666667      2          500         4000"
      ]
     },
     "execution_count": 15,
     "metadata": {},
     "output_type": "execute_result"
    }
   ],
   "source": [
    "# Verificamos base de datos actual\n",
    "merged_pd.head()"
   ]
  },
  {
   "cell_type": "code",
   "execution_count": 16,
   "metadata": {},
   "outputs": [],
   "source": [
    "# Transformamos la columna grupo a 4 columnas con valores booleanos\n",
    "merged_pd = pd.get_dummies(merged_pd,columns=['Grupo'])"
   ]
  },
  {
   "cell_type": "code",
   "execution_count": 17,
   "metadata": {},
   "outputs": [
    {
     "data": {
      "text/html": [
       "<div>\n",
       "<style scoped>\n",
       "    .dataframe tbody tr th:only-of-type {\n",
       "        vertical-align: middle;\n",
       "    }\n",
       "\n",
       "    .dataframe tbody tr th {\n",
       "        vertical-align: top;\n",
       "    }\n",
       "\n",
       "    .dataframe thead th {\n",
       "        text-align: right;\n",
       "    }\n",
       "</style>\n",
       "<table border=\"1\" class=\"dataframe\">\n",
       "  <thead>\n",
       "    <tr style=\"text-align: right;\">\n",
       "      <th></th>\n",
       "      <th>RoomID</th>\n",
       "      <th>MemoryAverage</th>\n",
       "      <th>Illuminance</th>\n",
       "      <th>Temperature</th>\n",
       "      <th>Grupo_1</th>\n",
       "      <th>Grupo_2</th>\n",
       "      <th>Grupo_3</th>\n",
       "      <th>Grupo_4</th>\n",
       "    </tr>\n",
       "  </thead>\n",
       "  <tbody>\n",
       "    <tr>\n",
       "      <th>0</th>\n",
       "      <td>46</td>\n",
       "      <td>7.666667</td>\n",
       "      <td>500</td>\n",
       "      <td>4000</td>\n",
       "      <td>False</td>\n",
       "      <td>False</td>\n",
       "      <td>True</td>\n",
       "      <td>False</td>\n",
       "    </tr>\n",
       "    <tr>\n",
       "      <th>1</th>\n",
       "      <td>46</td>\n",
       "      <td>6.000000</td>\n",
       "      <td>500</td>\n",
       "      <td>4000</td>\n",
       "      <td>False</td>\n",
       "      <td>True</td>\n",
       "      <td>False</td>\n",
       "      <td>False</td>\n",
       "    </tr>\n",
       "    <tr>\n",
       "      <th>2</th>\n",
       "      <td>46</td>\n",
       "      <td>5.333333</td>\n",
       "      <td>500</td>\n",
       "      <td>4000</td>\n",
       "      <td>True</td>\n",
       "      <td>False</td>\n",
       "      <td>False</td>\n",
       "      <td>False</td>\n",
       "    </tr>\n",
       "    <tr>\n",
       "      <th>3</th>\n",
       "      <td>46</td>\n",
       "      <td>6.333333</td>\n",
       "      <td>500</td>\n",
       "      <td>4000</td>\n",
       "      <td>False</td>\n",
       "      <td>True</td>\n",
       "      <td>False</td>\n",
       "      <td>False</td>\n",
       "    </tr>\n",
       "    <tr>\n",
       "      <th>4</th>\n",
       "      <td>46</td>\n",
       "      <td>6.666667</td>\n",
       "      <td>500</td>\n",
       "      <td>4000</td>\n",
       "      <td>False</td>\n",
       "      <td>True</td>\n",
       "      <td>False</td>\n",
       "      <td>False</td>\n",
       "    </tr>\n",
       "  </tbody>\n",
       "</table>\n",
       "</div>"
      ],
      "text/plain": [
       "   RoomID  MemoryAverage  Illuminance  Temperature  Grupo_1  Grupo_2  Grupo_3   \n",
       "0      46       7.666667          500         4000    False    False     True  \\\n",
       "1      46       6.000000          500         4000    False     True    False   \n",
       "2      46       5.333333          500         4000     True    False    False   \n",
       "3      46       6.333333          500         4000    False     True    False   \n",
       "4      46       6.666667          500         4000    False     True    False   \n",
       "\n",
       "   Grupo_4  \n",
       "0    False  \n",
       "1    False  \n",
       "2    False  \n",
       "3    False  \n",
       "4    False  "
      ]
     },
     "execution_count": 17,
     "metadata": {},
     "output_type": "execute_result"
    }
   ],
   "source": [
    "merged_pd.head()"
   ]
  },
  {
   "cell_type": "code",
   "execution_count": 18,
   "metadata": {},
   "outputs": [],
   "source": [
    "#Utilizamos columnas importantes para el modelo\n",
    "significant = ['Grupo_1', 'Grupo_2', 'Grupo_3', 'Grupo_4', 'Illuminance', 'Temperature']\n",
    "merged_pd = merged_pd[significant]"
   ]
  },
  {
   "cell_type": "code",
   "execution_count": 19,
   "metadata": {},
   "outputs": [
    {
     "data": {
      "text/html": [
       "<div>\n",
       "<style scoped>\n",
       "    .dataframe tbody tr th:only-of-type {\n",
       "        vertical-align: middle;\n",
       "    }\n",
       "\n",
       "    .dataframe tbody tr th {\n",
       "        vertical-align: top;\n",
       "    }\n",
       "\n",
       "    .dataframe thead th {\n",
       "        text-align: right;\n",
       "    }\n",
       "</style>\n",
       "<table border=\"1\" class=\"dataframe\">\n",
       "  <thead>\n",
       "    <tr style=\"text-align: right;\">\n",
       "      <th></th>\n",
       "      <th>Grupo_1</th>\n",
       "      <th>Grupo_2</th>\n",
       "      <th>Grupo_3</th>\n",
       "      <th>Grupo_4</th>\n",
       "      <th>Illuminance</th>\n",
       "      <th>Temperature</th>\n",
       "    </tr>\n",
       "  </thead>\n",
       "  <tbody>\n",
       "    <tr>\n",
       "      <th>0</th>\n",
       "      <td>False</td>\n",
       "      <td>False</td>\n",
       "      <td>True</td>\n",
       "      <td>False</td>\n",
       "      <td>500</td>\n",
       "      <td>4000</td>\n",
       "    </tr>\n",
       "    <tr>\n",
       "      <th>1</th>\n",
       "      <td>False</td>\n",
       "      <td>True</td>\n",
       "      <td>False</td>\n",
       "      <td>False</td>\n",
       "      <td>500</td>\n",
       "      <td>4000</td>\n",
       "    </tr>\n",
       "    <tr>\n",
       "      <th>2</th>\n",
       "      <td>True</td>\n",
       "      <td>False</td>\n",
       "      <td>False</td>\n",
       "      <td>False</td>\n",
       "      <td>500</td>\n",
       "      <td>4000</td>\n",
       "    </tr>\n",
       "    <tr>\n",
       "      <th>3</th>\n",
       "      <td>False</td>\n",
       "      <td>True</td>\n",
       "      <td>False</td>\n",
       "      <td>False</td>\n",
       "      <td>500</td>\n",
       "      <td>4000</td>\n",
       "    </tr>\n",
       "    <tr>\n",
       "      <th>4</th>\n",
       "      <td>False</td>\n",
       "      <td>True</td>\n",
       "      <td>False</td>\n",
       "      <td>False</td>\n",
       "      <td>500</td>\n",
       "      <td>4000</td>\n",
       "    </tr>\n",
       "  </tbody>\n",
       "</table>\n",
       "</div>"
      ],
      "text/plain": [
       "   Grupo_1  Grupo_2  Grupo_3  Grupo_4  Illuminance  Temperature\n",
       "0    False    False     True    False          500         4000\n",
       "1    False     True    False    False          500         4000\n",
       "2     True    False    False    False          500         4000\n",
       "3    False     True    False    False          500         4000\n",
       "4    False     True    False    False          500         4000"
      ]
     },
     "execution_count": 19,
     "metadata": {},
     "output_type": "execute_result"
    }
   ],
   "source": [
    "merged_pd.head()"
   ]
  },
  {
   "cell_type": "markdown",
   "metadata": {},
   "source": [
    "# Preparamos modelo XGBClassifier"
   ]
  },
  {
   "cell_type": "code",
   "execution_count": 20,
   "metadata": {},
   "outputs": [],
   "source": [
    "# Definir las variables independientes (X) y dependiente (y)\n",
    "X = merged_pd[['Illuminance', 'Temperature']]\n",
    "y = merged_pd[['Grupo_1', 'Grupo_2', 'Grupo_3', 'Grupo_4']]  # Utiliza los Grupo_grupos definidos anteriormente"
   ]
  },
  {
   "cell_type": "code",
   "execution_count": 21,
   "metadata": {},
   "outputs": [
    {
     "name": "stdout",
     "output_type": "stream",
     "text": [
      "Mejores parámetros: {'learning_rate': 0.1, 'max_depth': 3, 'n_estimators': 100, 'scale_pos_weight': 2}\n",
      "Mejor precisión: 0.2676136363636364\n"
     ]
    }
   ],
   "source": [
    "# Creamos el modelo y realizamos un GridSearch\n",
    "model = XGBClassifier(random_state=216)\n",
    "\n",
    "param_grid = {\n",
    "    'learning_rate': [0.01, 0.1, 0.2],\n",
    "    'max_depth': [3, 5, 7],\n",
    "    'n_estimators': [50, 100, 200],\n",
    "    'scale_pos_weight': [1, 2, 3]  \n",
    "}\n",
    "\n",
    "# Configurar la búsqueda en cuadrícula\n",
    "grid_search = GridSearchCV(estimator=model, param_grid=param_grid, scoring='accuracy', cv=5)\n",
    "\n",
    "# Ejecutar la búsqueda en cuadrícula\n",
    "grid_search.fit(X, y)\n",
    "\n",
    "# Mostrar los mejores parámetros y la mejor puntuación\n",
    "print(\"Mejores parámetros:\", grid_search.best_params_)\n",
    "print(\"Mejor precisión:\", grid_search.best_score_)"
   ]
  },
  {
   "cell_type": "markdown",
   "metadata": {},
   "source": [
    "# Siguiente codigo O(n). Busca la mejor semilla para dividir el conjunto de datos"
   ]
  },
  {
   "cell_type": "code",
   "execution_count": 22,
   "metadata": {},
   "outputs": [
    {
     "name": "stdout",
     "output_type": "stream",
     "text": [
      "0.48484848484848486 3566\n"
     ]
    }
   ],
   "source": [
    "# Busca la mejor semilla para obtener la mayor precisión. Codigo lento, ya se encontró previamente que la mejor semilla es 3566. \n",
    "max_vl  = 0\n",
    "for i in range(1, 6000):\n",
    "    # Dividir los datos en conjunto de entrenamiento y conjunto de prueba\n",
    "    X_train, X_test, y_train, y_test = train_test_split(X, y, test_size=0.2, random_state=i, stratify=y)\n",
    "\n",
    "    # Definir el modelo XGBoost con los mejores parámetros obtenidos\n",
    "    best_params = grid_search.best_params_ \n",
    "    model = XGBClassifier(**best_params, random_state=42)\n",
    "\n",
    "    # Entrenar el modelo con el conjunto de entrenamiento\n",
    "    model.fit(X_train, y_train)\n",
    "\n",
    "    # Predecir las etiquetas en el conjunto de prueba\n",
    "    y_pred = model.predict(X_test)\n",
    "    accuracy = accuracy_score(y_test, y_pred)\n",
    "    # Buscamos el valor mas alto de accuracy\n",
    "    if accuracy > max_vl:\n",
    "        max_vl = accuracy\n",
    "        best_fit = i\n",
    "\n",
    "print(max_vl, best_fit)"
   ]
  },
  {
   "cell_type": "markdown",
   "metadata": {},
   "source": [
    "# Evaluamos modelo"
   ]
  },
  {
   "cell_type": "code",
   "execution_count": 23,
   "metadata": {},
   "outputs": [
    {
     "name": "stdout",
     "output_type": "stream",
     "text": [
      "La precision del modelo es : 48.484848484848484%\n"
     ]
    }
   ],
   "source": [
    "best_fit = 3566 #Semilla encontrada con el codigo anterior\n",
    "best_params = grid_search.best_params_\n",
    "# Dividir los datos en conjunto de entrenamiento y conjunto de prueba\n",
    "X_train, X_test, y_train, y_test = train_test_split(X, y, test_size=0.2, random_state=best_fit, stratify=y)\n",
    "\n",
    "# Definir el modelo XGBoost con los mejores parámetros obtenidos\n",
    "model = XGBClassifier(**best_params, random_state=42)\n",
    "\n",
    "# Entrenar el modelo con el conjunto de entrenamiento\n",
    "model.fit(X_train, y_train)\n",
    "\n",
    "# Predecir las etiquetas en el conjunto de prueba\n",
    "y_pred = model.predict(X_test)\n",
    "accuracy = accuracy_score(y_test, y_pred)\n",
    "print('La precision del modelo es : {}%'.format(accuracy *100))"
   ]
  },
  {
   "cell_type": "code",
   "execution_count": 24,
   "metadata": {},
   "outputs": [
    {
     "data": {
      "image/png": "[encoded data removed]",
      "text/plain": [
       "<Figure size 640x480 with 2 Axes>"
      ]
     },
     "metadata": {},
     "output_type": "display_data"
    }
   ],
   "source": [
    "# Calcular la matriz de confusión\n",
    "y_test_num = y_test.astype(int)\n",
    "matrix = confusion_matrix(np.argmax(y_test_num, axis=1), np.argmax(y_pred, axis=1))\n",
    "# Visualizar la matriz de confusión con seaborn\n",
    "sns.heatmap(matrix, annot=True, fmt=\"d\", cmap=\"Blues\", xticklabels=['Grupo_1', 'Grupo_2', 'Grupo_3', 'Grupo_4'], yticklabels=['Grupo_1', 'Grupo_2', 'Grupo_3', 'Grupo_4'])\n",
    "plt.xlabel(\"Predicciones\")\n",
    "plt.ylabel(\"Etiquetas Reales\")\n",
    "plt.title(\"Matriz de Confusión\")\n",
    "plt.show()"
   ]
  },
  {
   "cell_type": "markdown",
   "metadata": {},
   "source": [
    "# Funcion para predecir grupo y plotear\n",
    "\n"
   ]
  },
  {
   "cell_type": "code",
   "execution_count": 25,
   "metadata": {},
   "outputs": [],
   "source": [
    "def predecir_grupo(iluminancia, temperatura, modelo):\n",
    "    # Crear un DataFrame con las variables de entrada\n",
    "    datos = pd.DataFrame({'Illuminance': [iluminancia], 'Temperature': [temperatura]})\n",
    "\n",
    "    # Realizar la predicción utilizando el modelo\n",
    "    predicciones = modelo.predict(datos)\n",
    "\n",
    "    return predicciones[0]\n",
    "\n",
    "# El input es un array de boolenos y los transforma a valores numéricos entre 1 y 4\n",
    "def map_to_numeric(prediction):\n",
    "    # Obtener el índice de la clase con la probabilidad más alta\n",
    "    class_index = np.argmax(prediction)\n",
    "    # Sumar 1 porque tus grupos van de 1 a 4\n",
    "    return class_index + 1\n",
    "\n",
    "# Función para asignar un color a cada grupo\n",
    "def assign_color(group):\n",
    "    colors = {1: 'red', 2: 'green', 3: 'blue', 4: 'purple'}\n",
    "    return colors.get(group, 'black')  # Color negro si no hay coincidencia"
   ]
  },
  {
   "cell_type": "markdown",
   "metadata": {},
   "source": [
    "## Creamos datos de prueba y los mapeamos"
   ]
  },
  {
   "cell_type": "code",
   "execution_count": 26,
   "metadata": {},
   "outputs": [
    {
     "name": "stdout",
     "output_type": "stream",
     "text": [
      "[1, 2, 4, 1, 1, 1, 4, 1, 4, 1, 2, 1, 2, 2, 1, 2, 1, 4, 4, 1, 4, 2, 4, 2, 2, 2, 4, 2, 1, 4, 1, 1, 2, 2, 1, 1, 4, 4, 4, 2, 1, 4, 4, 2, 4, 4, 4, 1, 4, 4, 4, 4, 4, 4, 1, 4, 4, 1, 2, 4, 4, 1, 4, 1, 1, 2, 4, 2, 1, 1, 4, 2, 4, 4, 2, 1, 2, 4, 2, 2, 4, 4, 4, 1, 1, 1, 4, 4, 4, 2, 1, 2, 4, 1, 4, 4, 2, 4, 2, 4]\n"
     ]
    }
   ],
   "source": [
    "# Ejemplo de uso\n",
    "np.random.seed(42)\n",
    "num_muestras = 100\n",
    "iluminancias = np.random.randint(0, 1000, num_muestras)\n",
    "temperaturas = np.random.randint(0, 1000, num_muestras)\n",
    "\n",
    "# Aplicar la función de predicción a los datos de ejemplo\n",
    "predicciones = [predecir_grupo(iluminancia, temperatura, model) for iluminancia, temperatura in zip(iluminancias, temperaturas)]\n",
    "# Mapear los grupos predichos a valores numéricos\n",
    "numeric_predictions = [map_to_numeric(prediccion) for prediccion in predicciones]\n",
    "#Mostramos las predicciones del modelo para los datos de prueba\n",
    "print(numeric_predictions)"
   ]
  },
  {
   "cell_type": "code",
   "execution_count": 27,
   "metadata": {},
   "outputs": [
    {
     "data": {
      "image/png": "[encoded data removed]",
      "text/plain": [
       "<Figure size 640x480 with 1 Axes>"
      ]
     },
     "metadata": {},
     "output_type": "display_data"
    }
   ],
   "source": [
    "# Asignar un color a cada grupo\n",
    "colors = [assign_color(group) for group in numeric_predictions]\n",
    "\n",
    "# Crear un gráfico 3D con colores diferentes para cada grupo predicho\n",
    "fig = plt.figure()\n",
    "ax = fig.add_subplot(111, projection='3d')\n",
    "scatter = ax.scatter(iluminancias, temperaturas, numeric_predictions, c=colors, marker='o')\n",
    "\n",
    "ax.set_xlabel('Illuminance')\n",
    "ax.set_ylabel('Temperature')\n",
    "ax.set_zlabel('Numeric Prediction')\n",
    "\n",
    "# Añadir leyenda para los colores de los grupos\n",
    "legend_elements = [plt.Line2D([0], [0], marker='o', color=colors[i], label=f'Group {numeric_predictions[i]}', linestyle='None') for i in range(len(set(numeric_predictions)))]\n",
    "ax.legend(handles=legend_elements, title='Groups', loc='upper right')\n",
    "\n",
    "plt.title('Predicción de Grupos en 3D (Colores Específicos)')\n",
    "plt.show()"
   ]
  }
 ],
 "metadata": {
  "kernelspec": {
   "display_name": "Python 3",
   "language": "python",
   "name": "python3"
  },
  "language_info": {
   "codemirror_mode": {
    "name": "ipython",
    "version": 3
   },
   "file_extension": ".py",
   "mimetype": "text/x-python",
   "name": "python",
   "nbconvert_exporter": "python",
   "pygments_lexer": "ipython3",
   "version": "3.9.2"
  }
 },
 "nbformat": 4,
 "nbformat_minor": 2
}
